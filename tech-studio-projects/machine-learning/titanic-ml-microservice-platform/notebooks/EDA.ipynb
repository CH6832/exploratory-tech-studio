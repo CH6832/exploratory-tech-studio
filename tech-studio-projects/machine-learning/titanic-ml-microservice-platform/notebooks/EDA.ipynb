{
  "cells": [
   {
    "cell_type": "markdown",
    "metadata": {},
    "source": [
     "# Exploratory Data Analysis on Titanic Dataset\n",
     "\n",
     "In this notebook, we will perform exploratory data analysis (EDA) on the Titanic dataset. The goal is to understand the dataset better, visualize relationships between variables, and extract meaningful insights."
    ]
   },
   {
    "cell_type": "code",
    "execution_count": 1,
    "metadata": {},
    "outputs": [],
    "source": [
     "# Importing necessary libraries\n",
     "import pandas as pd\n",
     "import numpy as np\n",
     "import seaborn as sns\n",
     "import matplotlib.pyplot as plt\n",
     "\n",
     "# Set display options\n",
     "pd.set_option('display.max_columns', None)\n",
     "sns.set(style='whitegrid')"
    ]
   },
   {
    "cell_type": "markdown",
    "metadata": {},
    "source": [
     "## Load the Data\n",
     "Let's load the Titanic dataset to begin our analysis."
    ]
   },
   {
    "cell_type": "code",
    "execution_count": 2,
    "metadata": {},
    "outputs": [],
    "source": [
     "# Load the dataset\n",
     "data = pd.read_csv('../data/raw/titanic.csv')\n",
     "\n",
     "# Display the first few rows of the dataset\n",
     "data.head()"
    ]
   },
   {
    "cell_type": "markdown",
    "metadata": {},
    "source": [
     "## Data Overview\n",
     "Let's get an overview of the dataset, including its shape and data types."
    ]
   },
   {
    "cell_type": "code",
    "execution_count": 3,
    "metadata": {},
    "outputs": [
     {
      "data": {
       "text/plain": [
        "(891, 12)"
       ]
      },
      "metadata": {},
      "output_type": "execute_result",
      "execution_count": 3
     }
    ],
    "source": [
     "# Check the shape of the dataset\n",
     "data.shape"
    ]
   },
   {
    "cell_type": "code",
    "execution_count": 4,
    "metadata": {},
    "outputs": [],
    "source": [
     "# Check the data types and null values\n",
     "data.info()"
    ]
   },
   {
    "cell_type": "markdown",
    "metadata": {},
    "source": [
     "## Descriptive Statistics\n",
     "Let's generate descriptive statistics to understand the distribution of numerical features."
    ]
   },
   {
    "cell_type": "code",
    "execution_count": 5,
    "metadata": {},
    "outputs": [],
    "source": [
     "# Descriptive statistics\n",
     "data.describe()"
    ]
   },
   {
    "cell_type": "markdown",
    "metadata": {},
    "source": [
     "## Data Visualization\n",
     "Now, let's visualize the data to understand relationships and distributions.\n",
     "\n",
     "### Distribution of Age\n",
     "We will first look at the distribution of the 'Age' feature."
    ]
   },
   {
    "cell_type": "code",
    "execution_count": 6,
    "metadata": {},
    "outputs": [
     {
      "data": {
       "text/plain": [
        "<AxesSubplot:>"
       ]
      },
      "metadata": {},
      "output_type": "execute_result",
      "execution_count": 6
     }
    ],
    "source": [
     "# Visualize the age distribution\n",
     "plt.figure(figsize=(10, 6))\n",
     "sns.histplot(data['Age'], bins=30, kde=True)\n",
     "plt.title('Age Distribution of Passengers')\n",
     "plt.xlabel('Age')\n",
     "plt.ylabel('Frequency')\n",
     "plt.show()"
    ]
   },
   {
    "cell_type": "markdown",
    "metadata": {},
    "source": [
     "### Survival Rate by Gender\n",
     "Next, we will examine the survival rate based on gender."
    ]
   },
   {
    "cell_type": "code",
    "execution_count": 7,
    "metadata": {},
    "outputs": [
     {
      "data": {
       "text/plain": [
        "<AxesSubplot:xlabel='Sex', ylabel='Survival Rate'>"
       ]
      },
      "metadata": {},
      "output_type": "execute_result",
      "execution_count": 7
     }
    ],
    "source": [
     "# Survival rate by gender\n",
     "plt.figure(figsize=(8, 5))\n",
     "sns.barplot(x='Sex', y='Survived', data=data, ci=None)\n",
     "plt.title('Survival Rate by Gender')\n",
     "plt.ylabel('Survival Rate')\n",
     "plt.xlabel('Gender')\n",
     "plt.show()"
    ]
   },
   {
    "cell_type": "markdown",
    "metadata": {},
    "source": [
     "### Survival Rate by Class\n",
     "We will now explore the survival rate based on the passenger class (Pclass)."
    ]
   },
   {
    "cell_type": "code",
    "execution_count": 8,
    "metadata": {},
    "outputs": [
     {
      "data": {
       "text/plain": [
        "<AxesSubplot:xlabel='Pclass', ylabel='Survival Rate'>"
       ]
      },
      "metadata": {},
      "output_type": "execute_result",
      "execution_count": 8
     }
    ],
    "source": [
     "# Survival rate by class\n",
     "plt.figure(figsize=(8, 5))\n",
     "sns.barplot(x='Pclass', y='Survived', data=data, ci=None)\n",
     "plt.title('Survival Rate by Passenger Class')\n",
     "plt.ylabel('Survival Rate')\n",
     "plt.xlabel('Passenger Class')\n",
     "plt.show()"
    ]
   },
   {
    "cell_type": "markdown",
    "metadata": {},
    "source": [
     "### Correlation Heatmap\n",
     "Finally, let's visualize the correlation between numeric features using a heatmap."
    ]
   },
   {
    "cell_type": "code",
    "execution_count": 9,
    "metadata": {},
    "outputs": [
     {
      "data": {
       "text/plain": [
        "<AxesSubplot:>"
       ]
      },
      "metadata": {},
      "output_type": "execute_result",
      "execution_count": 9
     }
    ],
    "source": [
     "# Correlation heatmap\n",
     "plt.figure(figsize=(12, 8))\n",
     "corr = data.corr()\n",
     "sns.heatmap(corr, annot=True, fmt='.2f', cmap='coolwarm', square=True)\n",
     "plt.title('Correlation Heatmap')\n",
     "plt.show()"
    ]
   },
   {
    "cell_type": "markdown",
    "metadata": {},
    "source": [
     "## Key Insights\n",
     "1. Females had a higher survival rate compared to males.\n",
     "2. Passengers in first class had the highest survival rates.\n",
     "3. Age appears to have a varied distribution with some outliers.\n",
     "\n",
     "This concludes the exploratory data analysis. Further steps include data preprocessing and model training."
    ]
   }
  ],
  "metadata": {
   "kernelspec": {
    "display_name": "Python 3",
    "language": "python",
    "name": "python3"
   },
   "language_info": {
    "codemirror_mode": {
     "name": "ipython",
     "version": 3
    },
    "file_extension": ".py",
    "mimetype": "text/x-python",
    "name": "python",
    "nbconvert_exporter": "python",
    "pygments_lexer": "ipython3",
    "version": "3.8.5"
   }
  },
  "nbformat": 4,
  "nbformat_minor": 4
 }
 
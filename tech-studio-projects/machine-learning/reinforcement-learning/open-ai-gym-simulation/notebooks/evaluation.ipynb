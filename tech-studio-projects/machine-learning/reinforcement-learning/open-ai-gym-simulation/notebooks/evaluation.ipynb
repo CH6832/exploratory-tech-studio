{
 "cells": [
  {
   "cell_type": "code",
   "execution_count": null,
   "metadata": {},
   "outputs": [],
   "source": [
    "import pandas as pd\n",
    "from stable_baselines3 import PPO\n",
    "from environment_creation import HVACEnv\n",
    "\n",
    "# Load processed data\n",
    "features = pd.read_csv('data/processed/features.csv')\n",
    "target = pd.read_csv('data/processed/target.csv')\n",
    "\n",
    "# Create environment\n",
    "env = HVACEnv(features, target)\n",
    "\n",
    "# Load the trained model\n",
    "model = PPO.load(\"models/ppo_hvac\")\n",
    "\n",
    "# Test the trained agent\n",
    "state = env.reset()\n",
    "done = False\n",
    "total_reward = 0\n",
    "\n",
    "while not done:\n",
    "    action, _states = model.predict(state)\n",
    "    state, reward, done, _ = env.step(action)\n",
    "    total_reward += reward\n",
    "\n",
    "print(\"Total reward (negative energy consumption):\", total_reward)\n"
   ]
  }
 ],
 "metadata": {
  "language_info": {
   "name": "python"
  }
 },
 "nbformat": 4,
 "nbformat_minor": 2
}

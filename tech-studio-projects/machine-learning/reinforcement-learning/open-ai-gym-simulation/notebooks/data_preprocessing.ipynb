{
 "cells": [
  {
   "cell_type": "code",
   "execution_count": null,
   "metadata": {},
   "outputs": [],
   "source": [
    "# Data Preprocessing\n",
    "import pandas as pd\n",
    "from sklearn.preprocessing import StandardScaler\n",
    "\n",
    "# Load datasets\n",
    "train_file = 'data/train.csv'\n",
    "weather_file = 'data/weather_train.csv'\n",
    "\n",
    "data = pd.read_csv(train_file)\n",
    "weather_data = pd.read_csv(weather_file)\n",
    "\n",
    "# Merge datasets\n",
    "data = data.merge(weather_data, on=['site_id', 'timestamp'], how='left')\n",
    "\n",
    "# Feature engineering\n",
    "data['timestamp'] = pd.to_datetime(data['timestamp'])\n",
    "data['hour'] = data['timestamp'].dt.hour\n",
    "data['day'] = data['timestamp'].dt.day\n",
    "data['month'] = data['timestamp'].dt.month\n",
    "\n",
    "# Select relevant features\n",
    "features = ['hour', 'day', 'month', 'air_temperature', 'dew_temperature', 'sea_level_pressure', 'wind_speed']\n",
    "target = 'meter_reading'\n",
    "\n",
    "# Handle missing values\n",
    "data = data.dropna(subset=features)\n",
    "\n",
    "# Normalize features\n",
    "scaler = StandardScaler()\n",
    "data[features] = scaler.fit_transform(data[features])\n",
    "\n",
    "# Prepare data for training\n",
    "X = data[features]\n",
    "y = data[target]\n",
    "\n",
    "# Save processed data\n",
    "X.to_csv('data/processed/features.csv', index=False)\n",
    "y.to_csv('data/processed/target.csv', index=False)\n",
    "\n",
    "print(\"Data preprocessing completed.\")\n"
   ]
  }
 ],
 "metadata": {
  "language_info": {
   "name": "python"
  }
 },
 "nbformat": 4,
 "nbformat_minor": 2
}

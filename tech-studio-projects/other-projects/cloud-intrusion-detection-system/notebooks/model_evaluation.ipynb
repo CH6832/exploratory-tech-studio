{
 "cells": [
  {
   "cell_type": "code",
   "execution_count": null,
   "metadata": {},
   "outputs": [],
   "source": [
    "# Import Libraries\n",
    "import pandas as pd\n",
    "from sklearn.metrics import classification_report, confusion_matrix\n",
    "import joblib\n",
    "\n",
    "# Load the model and data\n",
    "model = joblib.load('models/intrusion_detection_model.pkl')\n",
    "data = pd.read_csv(\"data/processed/scaled_features.csv\")\n",
    "\n",
    "# Predictions\n",
    "X = data.values\n",
    "y = pd.read_csv(\"data/processed/processed_data.csv\")['label']  # Load labels separately\n",
    "y_pred = model.predict(X)\n",
    "\n",
    "# Evaluation\n",
    "print(confusion_matrix(y, y_pred))\n",
    "print(classification_report(y, y_pred))\n"
   ]
  },
  {
   "cell_type": "code",
   "execution_count": null,
   "metadata": {},
   "outputs": [],
   "source": []
  }
 ],
 "metadata": {
  "language_info": {
   "name": "python"
  }
 },
 "nbformat": 4,
 "nbformat_minor": 2
}

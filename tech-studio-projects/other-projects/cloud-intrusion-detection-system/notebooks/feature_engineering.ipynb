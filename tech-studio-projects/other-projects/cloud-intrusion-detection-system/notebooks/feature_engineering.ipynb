# Import Libraries
import pandas as pd
from sklearn.preprocessing import StandardScaler

# Load the data
data = pd.read_csv("data/processed/processed_data.csv")

# Feature Engineering
# Example: Feature interactions or polynomial features

# Scaling features
scaler = StandardScaler()
X_scaled = scaler.fit_transform(data.drop('label', axis=1))

# Save the scaled features for model training
pd.DataFrame(X_scaled).to_csv("data/processed/scaled_features.csv", index=False)

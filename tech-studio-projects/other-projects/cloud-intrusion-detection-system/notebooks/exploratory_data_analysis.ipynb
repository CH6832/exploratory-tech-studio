# Importing Libraries
import pandas as pd
import seaborn as sns
import matplotlib.pyplot as plt

# Load the data
data = pd.read_csv("data/processed/processed_data.csv")

# Visualize class distribution
sns.countplot(x='label', data=data)
plt.title("Class Distribution")
plt.show()

# Additional EDA
# Check for correlation, distributions, etc.
sns.heatmap(data.corr(), annot=True)
plt.title("Correlation Matrix")
plt.show()
